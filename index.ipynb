{
  "cells": [
    {
      "cell_type": "raw",
      "metadata": {},
      "source": [
        "---\n",
        "title: \"Portfolio Project 2: Image classification using FastAI\"\n",
        "execute: \n",
        "  echo: true\n",
        "\n",
        "format:\n",
        "  html:\n",
        "    page-layout: full\n",
        "    theme:\n",
        "      light: cosmo\n",
        "      dark: [cosmo, theme_dark_custom.scss]\n",
        "    code-link: true\n",
        "    code-fold: false\n",
        "engine: python3\n",
        "---"
      ],
      "id": "73460327"
    },
    {
      "cell_type": "markdown",
      "metadata": {},
      "source": [
        "## Goal\n",
        "The purpose of this project is to familiarise myself with the `fastai` python package. I will build a simple cat and dog classifier and then a model that can classify all breeds.\n",
        "\n",
        "## Step 1.0\n",
        "First, we need to import the `FastAI` package"
      ],
      "id": "f9f00746"
    },
    {
      "cell_type": "code",
      "metadata": {},
      "source": [
        "from fastai.vision.all import *"
      ],
      "id": "f2d75069",
      "execution_count": null,
      "outputs": []
    },
    {
      "cell_type": "markdown",
      "metadata": {},
      "source": [
        "Then we want to dowload a dataset of images - in this case labelled cats and dogs.\n"
      ],
      "id": "b18cfc31"
    },
    {
      "cell_type": "code",
      "metadata": {},
      "source": [
        "path = untar_data(URLs.PETS)"
      ],
      "id": "bb3b2962",
      "execution_count": null,
      "outputs": []
    },
    {
      "cell_type": "markdown",
      "metadata": {},
      "source": [
        "What is inside this dataset?"
      ],
      "id": "ec5c7132"
    },
    {
      "cell_type": "code",
      "metadata": {},
      "source": [
        "path.ls()"
      ],
      "id": "d2059233",
      "execution_count": null,
      "outputs": []
    },
    {
      "cell_type": "markdown",
      "metadata": {},
      "source": [
        "How many files are in the dataset?"
      ],
      "id": "b531749b"
    },
    {
      "cell_type": "code",
      "metadata": {},
      "source": [
        "files = get_image_files(path/\"images\")\n",
        "len(files)"
      ],
      "id": "7892130d",
      "execution_count": null,
      "outputs": []
    },
    {
      "cell_type": "markdown",
      "metadata": {},
      "source": [
        "Let's define an easy label function"
      ],
      "id": "d04e6b01"
    },
    {
      "cell_type": "code",
      "metadata": {},
      "source": [
        "def label_func(f):\n",
        "  return f[0].isupper()"
      ],
      "id": "e87e0319",
      "execution_count": null,
      "outputs": []
    },
    {
      "cell_type": "markdown",
      "metadata": {},
      "source": [
        "Great! Now we want to stick all of our data into a `DataLoader` object so that we can begin the process of training our model.\n"
      ],
      "id": "d65f55d6"
    },
    {
      "cell_type": "code",
      "metadata": {},
      "source": [
        "dls = ImageDataLoaders.from_name_func(path, files, label_func, item_tfms=Resize(224))"
      ],
      "id": "b9cc0f56",
      "execution_count": null,
      "outputs": []
    },
    {
      "cell_type": "markdown",
      "metadata": {},
      "source": [
        "OK, now let's just take a moment to see that the images are all loaded into the `DataLoader` object properly:"
      ],
      "id": "1b7209f7"
    },
    {
      "cell_type": "code",
      "metadata": {},
      "source": [
        "dls.show_batch()"
      ],
      "id": "c0fa2f8a",
      "execution_count": null,
      "outputs": []
    },
    {
      "cell_type": "markdown",
      "metadata": {},
      "source": [
        "Looking good! We are now ready to try training a model. We are going to use an old favourite that works quite well while also being quite small - the `ResNet34` model.\n"
      ],
      "id": "e69294dd"
    },
    {
      "cell_type": "code",
      "metadata": {},
      "source": [
        "learn = vision_learner(dls, resnet34, metrics=error_rate)"
      ],
      "id": "6e6d16f8",
      "execution_count": null,
      "outputs": []
    },
    {
      "cell_type": "code",
      "metadata": {},
      "source": [
        "learn.lr_find()"
      ],
      "id": "05b09d40",
      "execution_count": null,
      "outputs": []
    }
  ],
  "metadata": {
    "kernelspec": {
      "name": "python3",
      "language": "python",
      "display_name": "Python 3 (ipykernel)"
    }
  },
  "nbformat": 4,
  "nbformat_minor": 5
}